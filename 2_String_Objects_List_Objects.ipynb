{
 "cells": [
  {
   "cell_type": "markdown",
   "id": "b4f61050",
   "metadata": {},
   "source": [
    "## Assignment 2 - String, Objects And List Objects\n",
    "\n",
    "### By - SUSHANK DANI\n",
    "\n",
    "### Date of Submission - 17.10.2021"
   ]
  },
  {
   "cell_type": "markdown",
   "id": "e953d027",
   "metadata": {},
   "source": [
    "===================================================================================================================\n",
    "\n",
    "==================================================================================================================="
   ]
  },
  {
   "cell_type": "markdown",
   "id": "ecf38090",
   "metadata": {},
   "source": [
    "<b><u> Question 1 - </u> <br>Create the below pattern using nested for loop in Python.</b>\n",
    "    \n",
    "* <br>\n",
    "* * <br>\n",
    "* * * <br>\n",
    "* * * * <br>\n",
    "* * * * * <br>\n",
    "* * * * <br>\n",
    "* * * <br>\n",
    "* * <br>\n",
    "* <br>\n",
    "\n",
    "\n",
    "<u> Solution - </u>"
   ]
  },
  {
   "cell_type": "code",
   "execution_count": 15,
   "id": "e91705f7",
   "metadata": {},
   "outputs": [
    {
     "name": "stdout",
     "output_type": "stream",
     "text": [
      "* \n",
      "* * \n",
      "* * * \n",
      "* * * * \n",
      "* * * * * \n",
      "* * * * \n",
      "* * * \n",
      "* * \n",
      "* \n"
     ]
    }
   ],
   "source": [
    "max_star = 5                                     ## Initialising the maximum number of star to be printed\n",
    "\n",
    "for i in (range(max_star)) :                     ## Looping for increasing order star printing\n",
    "    print(\"* \" * (i+1), end = \"\\n\")              ## Assumed star and spaces will be printed combinedly \n",
    "for i in (range(1, max_star)) :                  ## Looping for decreasing order star printing excluding the maximum star printing level\n",
    "    print(\"* \" * (max_star - i), end = \"\\n\")"
   ]
  },
  {
   "cell_type": "markdown",
   "id": "fc121ee7",
   "metadata": {},
   "source": [
    "==================================================================================================================="
   ]
  },
  {
   "cell_type": "markdown",
   "id": "fda8ce12",
   "metadata": {},
   "source": [
    "<b><u> Question 2 - </u> <br>Write a Python program to reverse a word after accepting the input from the user.</b>\n",
    "\n",
    "<u> Solution - </u>"
   ]
  },
  {
   "cell_type": "code",
   "execution_count": 33,
   "id": "ecf1a6b0",
   "metadata": {},
   "outputs": [
    {
     "name": "stdout",
     "output_type": "stream",
     "text": [
      "Enter a word which is to be reversed : Sushank\n",
      "The input word \"Sushank\" is reversed as \"knahsuS\".\n"
     ]
    }
   ],
   "source": [
    "user_input = input(\"Enter a word which is to be reversed : \")\n",
    "\n",
    "print(\"\"\"The input word \"{}\" is reversed as \"{}\".\"\"\".format(user_input, user_input[::-1]))"
   ]
  },
  {
   "cell_type": "markdown",
   "id": "e6e2dd3f",
   "metadata": {},
   "source": [
    "===================================================================================================================\n",
    "\n",
    "==================================================================================================================="
   ]
  }
 ],
 "metadata": {
  "kernelspec": {
   "display_name": "Python 3 (ipykernel)",
   "language": "python",
   "name": "python3"
  },
  "language_info": {
   "codemirror_mode": {
    "name": "ipython",
    "version": 3
   },
   "file_extension": ".py",
   "mimetype": "text/x-python",
   "name": "python",
   "nbconvert_exporter": "python",
   "pygments_lexer": "ipython3",
   "version": "3.8.3"
  }
 },
 "nbformat": 4,
 "nbformat_minor": 5
}
