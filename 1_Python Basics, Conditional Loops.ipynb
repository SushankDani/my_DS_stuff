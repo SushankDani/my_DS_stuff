{
 "cells": [
  {
   "cell_type": "markdown",
   "metadata": {},
   "source": [
    "## Assignment 1 - Python Basics, Conditional Loops\n",
    "\n",
    "### By - SUSHANK DANI\n",
    "\n",
    "### Date of Submission - 17.10.2021"
   ]
  },
  {
   "cell_type": "markdown",
   "metadata": {},
   "source": [
    "===================================================================================================================\n",
    "\n",
    "==================================================================================================================="
   ]
  },
  {
   "cell_type": "markdown",
   "metadata": {},
   "source": [
    "<b><u> Question 1 - </u> <br>\n",
    "Write a program which will find all such numbers which are divisible by 7 but are not a multiple of 5, between 2000 and 3200 (both included). The numbers obtained should be printed in a comma-separated sequence on a single line.</b>\n",
    "\n",
    "<u> Solution - </u>\n"
   ]
  },
  {
   "cell_type": "code",
   "execution_count": 8,
   "metadata": {},
   "outputs": [
    {
     "name": "stdout",
     "output_type": "stream",
     "text": [
      "2002,2009,2016,2023,2037,2044,2051,2058,2072,2079,2086,2093,2107,2114,2121,2128,2142,2149,2156,2163,2177,2184,2191,2198,2212,2219,2226,2233,2247,2254,2261,2268,2282,2289,2296,2303,2317,2324,2331,2338,2352,2359,2366,2373,2387,2394,2401,2408,2422,2429,2436,2443,2457,2464,2471,2478,2492,2499,2506,2513,2527,2534,2541,2548,2562,2569,2576,2583,2597,2604,2611,2618,2632,2639,2646,2653,2667,2674,2681,2688,2702,2709,2716,2723,2737,2744,2751,2758,2772,2779,2786,2793,2807,2814,2821,2828,2842,2849,2856,2863,2877,2884,2891,2898,2912,2919,2926,2933,2947,2954,2961,2968,2982,2989,2996,3003,3017,3024,3031,3038,3052,3059,3066,3073,3087,3094,3101,3108,3122,3129,3136,3143,3157,3164,3171,3178,3192,3199,"
     ]
    }
   ],
   "source": [
    "num1 = 2000\n",
    "num2 = 3200\n",
    "\n",
    "for i in range(2000,3200,1) :                  ## Iterating through loop\n",
    "    num_div_7 = i % 7                          ## Getting remainder when divided by 7\n",
    "    num_div_5 = i % 5                          ## Getting remainder when divided by 5\n",
    "    if num_div_7 == 0 and num_div_5 != 0 :     ## Checking if number is divisible by 7 and not by 5\n",
    "        print(i, end = \",\")                    ## Printing the required numbers separated by commas (,) in a single line"
   ]
  },
  {
   "cell_type": "markdown",
   "metadata": {},
   "source": [
    "==================================================================================================================="
   ]
  },
  {
   "cell_type": "markdown",
   "metadata": {},
   "source": [
    "<b> <u> Question 2 - </u> <br>Write a Python program to accept the user's first and last name and then getting them printed in the the reverse order with a space between first name and last name.</b>\n",
    "\n",
    "<u> Solution - </u>\n"
   ]
  },
  {
   "cell_type": "code",
   "execution_count": 14,
   "metadata": {},
   "outputs": [
    {
     "name": "stdout",
     "output_type": "stream",
     "text": [
      "Please enter your first name : Sushank\n",
      "Please enter your last name : Dani\n",
      "inaD knahsuS\n"
     ]
    }
   ],
   "source": [
    "first_name = input(\"Please enter your first name : \")  ## First name of a person as input\n",
    "last_name = input(\"Please enter your last name : \")    ## Last name of a person as input\n",
    "\n",
    "person_name = first_name + \" \" + last_name             ## Concatenating name of a person with space in between\n",
    "\n",
    "print(person_name[::-1])                               ## Pinting in reverse order using list comprehension\n"
   ]
  },
  {
   "cell_type": "markdown",
   "metadata": {},
   "source": [
    "==================================================================================================================="
   ]
  },
  {
   "cell_type": "markdown",
   "metadata": {},
   "source": [
    "<b> <u> Question 2 - </u> <br>Write a Python program to find the volume of a sphere with diameter 12 cm.<br>\n",
    "Formula: V=4/3 * π * r <sup>3 </b>\n",
    "\n",
    "<u> Solution - </u>\n",
    "\n"
   ]
  },
  {
   "cell_type": "code",
   "execution_count": 36,
   "metadata": {},
   "outputs": [
    {
     "name": "stdout",
     "output_type": "stream",
     "text": [
      "NOTE - All results are in centimeters.\n",
      "For a diameter of 12cm, the volumne of sphere = 904.78 cm³\n"
     ]
    }
   ],
   "source": [
    "import math                                         ## Using \"math\" library for pi value and power operation\n",
    "\n",
    "print(\"NOTE - All results are in centimeters.\")\n",
    "\n",
    "d = 12                                              ## diameter of sphere (in cm)\n",
    "\n",
    "vol_sphere = (4 / 3) * (math.pi) * pow(d/2,3)       ## Volume of sphere (in cm3)\n",
    "\n",
    "print(\"For a diameter of {}cm, the volumne of sphere = {:.2f} cm\\u00b3\".format(d,vol_sphere))"
   ]
  },
  {
   "cell_type": "markdown",
   "metadata": {},
   "source": [
    "===================================================================================================================\n",
    "\n",
    "==================================================================================================================="
   ]
  },
  {
   "cell_type": "markdown",
   "metadata": {},
   "source": [
    "## THANKS"
   ]
  }
 ],
 "metadata": {
  "kernelspec": {
   "display_name": "Python 3 (ipykernel)",
   "language": "python",
   "name": "python3"
  },
  "language_info": {
   "codemirror_mode": {
    "name": "ipython",
    "version": 3
   },
   "file_extension": ".py",
   "mimetype": "text/x-python",
   "name": "python",
   "nbconvert_exporter": "python",
   "pygments_lexer": "ipython3",
   "version": "3.8.3"
  }
 },
 "nbformat": 4,
 "nbformat_minor": 4
}
