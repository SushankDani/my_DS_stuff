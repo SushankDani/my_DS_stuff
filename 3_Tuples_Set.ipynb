{
 "cells": [
  {
   "cell_type": "markdown",
   "id": "fac596b6",
   "metadata": {},
   "source": [
    "## Assignment 3 - Tuples, Set\n",
    "\n",
    "### By - SUSHANK DANI\n",
    "\n",
    "### Date of Submission - 17.10.2021"
   ]
  },
  {
   "cell_type": "markdown",
   "id": "7d342d0b",
   "metadata": {},
   "source": [
    "===================================================================================================================\n",
    "\n",
    "==================================================================================================================="
   ]
  },
  {
   "cell_type": "markdown",
   "id": "a9882344",
   "metadata": {},
   "source": [
    "<b><u> Question 1.1 - </u> <br>Write a Python Program to implement your own myreduce() function which works exactly like Python's built-in function reduce()<br></b>\n",
    "\n",
    "<u> Solution - </u>"
   ]
  },
  {
   "cell_type": "code",
   "execution_count": 3,
   "id": "df3ec6e3",
   "metadata": {},
   "outputs": [
    {
     "ename": "NameError",
     "evalue": "name 'reduce' is not defined",
     "output_type": "error",
     "traceback": [
      "\u001b[0;31m---------------------------------------------------------------------------\u001b[0m",
      "\u001b[0;31mNameError\u001b[0m                                 Traceback (most recent call last)",
      "\u001b[0;32m/var/folders/5v/c3rwdpr95qx740p25mwvgnr40000gn/T/ipykernel_10715/2559224351.py\u001b[0m in \u001b[0;36m<module>\u001b[0;34m\u001b[0m\n\u001b[0;32m----> 1\u001b[0;31m \u001b[0mreduce\u001b[0m\u001b[0;34m(\u001b[0m\u001b[0;34m\"tring\"\u001b[0m\u001b[0;34m)\u001b[0m\u001b[0;34m\u001b[0m\u001b[0;34m\u001b[0m\u001b[0m\n\u001b[0m",
      "\u001b[0;31mNameError\u001b[0m: name 'reduce' is not defined"
     ]
    }
   ],
   "source": [
    "import functools"
   ]
  },
  {
   "cell_type": "markdown",
   "id": "dee1a98e",
   "metadata": {},
   "source": [
    "==================================================================================================================="
   ]
  },
  {
   "cell_type": "markdown",
   "id": "010f721d",
   "metadata": {},
   "source": [
    "<b><u> Question 2 - </u> <br>Implement List comprehensions to produce the following lists. Write List comprehensions to produce the following Lists - \n",
    "<br>2.1 - ['A', 'C', 'A', 'D', 'G', 'I', ’L’, ‘ D’]\n",
    "<br>2.2 - ['x', 'xx', 'xxx', 'xxxx', 'y', 'yy', 'yyy', 'yyyy', 'z', 'zz', 'zzz', 'zzzz']\n",
    "<br>2.3 - ['x', 'y', 'z', 'xx', 'yy', 'zz', 'xxx', 'yyy', 'zzz', 'xxxx', 'yyyy', 'zzzz']\n",
    "<br>2.4 - [[2], [3], [4], [3], [4], [5], [4], [5], [6]] \n",
    "<br>2.5 - [[2, 3, 4, 5], [3, 4, 5, 6], [4, 5, 6, 7], [5, 6, 7, 8]] \n",
    "<br>2.6 - [(1, 1), (2, 1), (3, 1), (1, 2), (2, 2), (3, 2), (1, 3), (2, 3), (3, 3)]<br></b>\n",
    "\n",
    "<u> Solution - </u>"
   ]
  },
  {
   "cell_type": "code",
   "execution_count": 6,
   "id": "58f2a2dd",
   "metadata": {},
   "outputs": [
    {
     "ename": "SyntaxError",
     "evalue": "invalid character in identifier (3441798003.py, line 3)",
     "output_type": "error",
     "traceback": [
      "\u001b[0;36m  File \u001b[0;32m\"/var/folders/5v/c3rwdpr95qx740p25mwvgnr40000gn/T/ipykernel_10715/3441798003.py\"\u001b[0;36m, line \u001b[0;32m3\u001b[0m\n\u001b[0;31m    list_2_1 = ['A', 'C', 'A', 'D', 'G', 'I', 'L', ‘D’]\u001b[0m\n\u001b[0m                                                     ^\u001b[0m\n\u001b[0;31mSyntaxError\u001b[0m\u001b[0;31m:\u001b[0m invalid character in identifier\n"
     ]
    }
   ],
   "source": [
    "\"SOLUTION 2.1 - \"\n",
    "\n",
    "list_2_1 = ['A', 'C', 'A', 'D', 'G', 'I', 'L', ‘D’]\n",
    "\n",
    "print(list_2_1)"
   ]
  },
  {
   "cell_type": "code",
   "execution_count": null,
   "id": "90068bad",
   "metadata": {},
   "outputs": [],
   "source": []
  }
 ],
 "metadata": {
  "kernelspec": {
   "display_name": "Python 3 (ipykernel)",
   "language": "python",
   "name": "python3"
  },
  "language_info": {
   "codemirror_mode": {
    "name": "ipython",
    "version": 3
   },
   "file_extension": ".py",
   "mimetype": "text/x-python",
   "name": "python",
   "nbconvert_exporter": "python",
   "pygments_lexer": "ipython3",
   "version": "3.8.3"
  }
 },
 "nbformat": 4,
 "nbformat_minor": 5
}
